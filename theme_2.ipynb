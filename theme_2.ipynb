{
 "cells": [
  {
   "cell_type": "markdown",
   "metadata": {},
   "source": [
    "## 2. Работа с путями и взаимодействие с файловой системой (1 час)"
   ]
  },
  {
   "cell_type": "markdown",
   "metadata": {},
   "source": [
    "#### **Цель:** \n",
    "Ознакомить с управлением файловой системой и путями, используя модули `os`, `os.path` и `shutil`.\n",
    "\n",
    "### Модуль `os` и работа с операционной системой\n",
    "\n",
    "#### Абсолютные и относительные пути\n",
    "\n",
    "- **Различия между абсолютными и относительными путями**\n",
    "  - Абсолютный путь — это полный путь от корневой директории до файла или папки. Он начинается с корневого каталога, например, `/home/user/documents/file.txt` на Linux или `C:\\Users\\User\\Documents\\file.txt` на Windows.\n",
    "  - Относительный путь — это путь относительно текущей рабочей директории. Например, если текущая директория `/home/user`, то относительный путь `documents/file.txt` указывает на файл внутри `documents`.\n",
    "  \n",
    "- **Использование `os.getcwd()` для получения текущего рабочего каталога**\n",
    "  - Функция `os.getcwd()` возвращает текущий рабочий каталог, с которого запускается программа. Этот каталог используется для разрешения относительных путей.\n",
    "  "
   ]
  },
  {
   "cell_type": "code",
   "execution_count": 2,
   "metadata": {},
   "outputs": [
    {
     "name": "stdout",
     "output_type": "stream",
     "text": [
      "Current working directory: /Users/macbook/Documents/lesson_12\n"
     ]
    }
   ],
   "source": [
    "import os\n",
    "\n",
    "current_directory = os.getcwd()\n",
    "\n",
    "print(f\"Current working directory: {current_directory}\")"
   ]
  },
  {
   "cell_type": "markdown",
   "metadata": {},
   "source": [
    "- **Переход в другой каталог с помощью `os.chdir()`**\n",
    "  - Функция `os.chdir(path)` изменяет текущий рабочий каталог на указанный путь `path`. Это может быть как абсолютный, так и относительный путь.\n"
   ]
  },
  {
   "cell_type": "code",
   "execution_count": 16,
   "metadata": {},
   "outputs": [
    {
     "name": "stdout",
     "output_type": "stream",
     "text": [
      "Changed directory to: /Users/macbook/Documents/lesson_12\n"
     ]
    }
   ],
   "source": [
    "os.chdir('/Users/macbook/Documents/lesson_12')\n",
    "\n",
    "print(f\"Changed directory to: {os.getcwd()}\")"
   ]
  },
  {
   "cell_type": "markdown",
   "metadata": {},
   "source": [
    "#### Навигация по файловой системе"
   ]
  },
  {
   "cell_type": "markdown",
   "metadata": {},
   "source": [
    "- **Получение списка файлов и директорий с помощью `os.listdir()`**\n",
    "  - Функция `os.listdir(path)` возвращает список имен файлов и папок в директории `path`. Если путь не указан, используется текущий рабочий каталог.\n"
   ]
  },
  {
   "cell_type": "code",
   "execution_count": 18,
   "metadata": {},
   "outputs": [
    {
     "name": "stdout",
     "output_type": "stream",
     "text": [
      "['theme_1.ipynb', 'populate_raw_data.py', 'serialize_processed_data.py', 'theme_3.ipynb', '.DS_Store', 'DZ.ipynb', 'theme_5.ipynb', 'restore_data.py', 'practice_1.py', 'theme_2.ipynb', 'backup_data.py', 'tetst.py', 'project_root.py', 'project_root', 'theme_4.ipynb', 'process_raw_data.py', 'example.txt', 'practice_2.py']\n"
     ]
    }
   ],
   "source": [
    "files_and_dirs = os.listdir('/Users/macbook/Documents/lesson_12')\n",
    "print(files_and_dirs)"
   ]
  },
  {
   "cell_type": "markdown",
   "metadata": {},
   "source": [
    "- **Создание и удаление директорий**\n",
    "  - **`os.mkdir()` — создание одной директории**\n",
    "    - Функция `os.mkdir(path)` создаёт новую директорию по указанному пути `path`. Если директория уже существует, возникает ошибка `FileExistsError`.\n",
    "  \n",
    "  - **`os.makedirs()` — создание вложенных директорий**\n",
    "    - Функция `os.makedirs(path)` создаёт все недостающие директории в пути `path`. Например, вызов `os.makedirs('dir1/dir2')` создаст как `dir1`, так и `dir2` внутри `dir1`.\n",
    "\n",
    "  - **`os.rmdir()` — удаление пустой директории**\n",
    "    - Функция `os.rmdir(path)` удаляет указанную директорию `path`, но только если она пуста. Если в директории есть файлы или папки, возникает ошибка `OSError`.\n",
    "\n",
    "  ```python\n",
    "  os.mkdir('new_folder')\n",
    "  os.makedirs('parent_folder/child_folder')\n",
    "  os.rmdir('empty_folder')\n",
    "  ```\n",
    "\n",
    "#### Проверка файлов и директорий\n",
    "\n",
    "- **Использование `os.path.exists()` для проверки существования пути**\n",
    "  - Функция `os.path.exists(path)` возвращает `True`, если путь существует, и `False` в противном случае.\n"
   ]
  },
  {
   "cell_type": "code",
   "execution_count": 20,
   "metadata": {},
   "outputs": [
    {
     "name": "stdout",
     "output_type": "stream",
     "text": [
      "Путь существует.\n"
     ]
    }
   ],
   "source": [
    "if os.path.exists('/Users/macbook/Documents/lesson_12'):\n",
    "    print(\"Путь существует.\")\n",
    "else:\n",
    "    print(\"Путь не существует.\")"
   ]
  },
  {
   "cell_type": "markdown",
   "metadata": {},
   "source": [
    "- **Проверка, является ли путь файлом или директорией: `os.path.isfile()`, `os.path.isdir()`**\n",
    "  - `os.path.isfile(path)` проверяет, является ли указанный путь файлом.\n",
    "  - `os.path.isdir(path)` проверяет, является ли указанный путь директорией.\n"
   ]
  },
  {
   "cell_type": "code",
   "execution_count": 26,
   "metadata": {},
   "outputs": [
    {
     "name": "stdout",
     "output_type": "stream",
     "text": [
      "Это директория.\n"
     ]
    }
   ],
   "source": [
    "if os.path.isfile('/Users/macbook/Documents/lesson_12'):\n",
    "    print(\"Это точно файл.\")\n",
    "elif os.path.isdir('/Users/macbook/Documents/lesson_12'):\n",
    "    print(\"Это директория.\")"
   ]
  },
  {
   "cell_type": "markdown",
   "metadata": {},
   "source": [
    "### Модуль `os.path` и работа с путями"
   ]
  },
  {
   "cell_type": "markdown",
   "metadata": {},
   "source": [
    "#### Конструирование путей\n",
    "\n",
    "- **Использование `os.path.join()` для создания путей, независимых от операционной системы**\n",
    "  - Функция `os.path.join()` объединяет один или несколько компонентов пути, корректно расставляя разделители, в зависимости от операционной системы.\n",
    "\n",
    "  ```python\n",
    "  full_path = os.path.join('folder', 'subfolder', 'file.txt')\n",
    "  print(full_path)\n",
    "  ```\n",
    "- **Получение абсолютного пути с помощью `os.path.abspath()`**\n",
    "  - Функция `os.path.abspath(path)` возвращает абсолютный путь для указанного относительного пути.\n"
   ]
  },
  {
   "cell_type": "code",
   "execution_count": 27,
   "metadata": {},
   "outputs": [
    {
     "name": "stdout",
     "output_type": "stream",
     "text": [
      "/Users/macbook/Documents/lesson_12/example.txt\n"
     ]
    }
   ],
   "source": [
    "absolute_path = os.path.abspath('example.txt')\n",
    "print(absolute_path)"
   ]
  },
  {
   "cell_type": "markdown",
   "metadata": {},
   "source": [
    "#### Работа с частями пути\n",
    "\n",
    "- **Извлечение имени файла или директории с помощью `os.path.basename()`**\n",
    "  - Функция `os.path.basename(path)` возвращает последнюю часть пути — имя файла или директории.\n",
    "\n",
    "  ```python\n",
    "  filename = os.path.basename('/path/to/file.txt')\n",
    "  print(filename)\n",
    "  ```\n",
    "\n",
    "- **Получение директории файла: `os.path.dirname()`**\n",
    "  - Функция `os.path.dirname(path)` возвращает путь к директории, содержащей файл или папку.\n",
    "\n",
    "  ```python\n",
    "  directory = os.path.dirname('/path/to/file.txt')\n",
    "  print(directory)\n",
    "  ```\n",
    "\n",
    "#### Получение информации о файлах\n",
    "\n",
    "- **Получение размера файла с помощью `os.path.getsize()`**\n",
    "  - Функция `os.path.getsize(path)` возвращает размер файла в байтах.\n",
    "\n",
    "  ```python\n",
    "  file_size = os.path.getsize('file.txt')\n",
    "  print(f\"File size: {file_size} bytes\")\n",
    "  ```\n",
    "\n",
    "- **Получение даты последнего изменения файла: `os.path.getmtime()`**\n",
    "  - Функция `os.path.getmtime(path)` возвращает время последнего изменения файла в виде числа секунд с начала эпохи (timestamp). Это значение можно преобразовать в читаемую дату с помощью модуля `time` или `datetime`.\n",
    "\n",
    "  ```python\n",
    "  import time\n",
    "\n",
    "  modification_time = os.path.getmtime('file.txt')\n",
    "  readable_time = time.ctime(modification_time)\n",
    "  print(f\"Last modified: {readable_time}\")\n",
    "  ```\n"
   ]
  },
  {
   "cell_type": "markdown",
   "metadata": {},
   "source": [
    "### Модуль `shutil`: управление файлами и директориями"
   ]
  },
  {
   "cell_type": "markdown",
   "metadata": {},
   "source": [
    "#### Копирование и перемещение файлов\n",
    "\n",
    "- **Использование `shutil.copy()` для копирования файлов**\n",
    "  - Функция `shutil.copy(src, dst)` копирует файл из источника `src` в назначение `dst`. Назначение может быть либо файлом, либо директорией.\n",
    "\n",
    "  ```python\n",
    "  import shutil\n",
    "\n",
    "  shutil.copy('source.txt', 'destination.txt')\n",
    "  ```\n",
    "\n",
    "- **`shutil.move()` — перемещение файлов или директорий**\n",
    "  - Функция `shutil.move(src, dst)` перемещает файл или директорию из источника `src` в назначение `dst`. При этом исходный файл или папка удаляются.\n",
    "\n",
    "  ```python\n",
    "  shutil.move('old_location/file.txt', 'new_location/file.txt')\n",
    "  ```\n",
    "\n",
    "#### Удаление файлов и директорий\n",
    "\n",
    "- **Удаление файлов с помощью `os.remove()`**\n",
    "  - Функция `os.remove(path)` удаляет файл по указанному пути `path`. Если файл не существует, возникает ошибка `FileNotFoundError`.\n",
    "\n",
    "  ```python\n",
    "  os.remove('file_to_delete.txt')\n",
    "  ```\n",
    "\n",
    "- **Использование `shutil.rmtree()` для удаления директории с её содержимым**\n",
    "  - Функция `shutil.rmtree(path)` удаляет директорию и все её содержимое (включая файлы и вложенные папки).\n",
    "\n",
    "  ```python\n",
    "  shutil.rmtree('directory_to_delete')\n",
    "  ```"
   ]
  }
 ],
 "metadata": {
  "kernelspec": {
   "display_name": "Python 3",
   "language": "python",
   "name": "python3"
  },
  "language_info": {
   "codemirror_mode": {
    "name": "ipython",
    "version": 3
   },
   "file_extension": ".py",
   "mimetype": "text/x-python",
   "name": "python",
   "nbconvert_exporter": "python",
   "pygments_lexer": "ipython3",
   "version": "3.12.6"
  }
 },
 "nbformat": 4,
 "nbformat_minor": 2
}
