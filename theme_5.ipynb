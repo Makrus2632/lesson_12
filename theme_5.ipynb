{
 "cells": [
  {
   "cell_type": "markdown",
   "metadata": {},
   "source": [
    "## 5. Продвинутая работа с JSON (1.5 часа)"
   ]
  },
  {
   "cell_type": "markdown",
   "metadata": {},
   "source": [
    "### Валидность и форматирование JSON\n",
    "\n",
    "#### **Проверка валидности JSON**\n",
    "\n",
    "##### **Использование онлайн-инструментов и библиотек для проверки валидности JSON**\n",
    "\n",
    "- **Онлайн-инструменты**:\n",
    "  - Онлайн-инструменты для проверки валидности JSON позволяют быстро проверить JSON-документы на корректность. Среди популярных инструментов можно выделить:\n",
    "    - [JSONLint](https://jsonlint.com/): Простой инструмент, который проверяет JSON на валидность и форматирует его для удобства чтения.\n",
    "    - [JSON Formatter & Validator](https://jsonformatter.curiousconcept.com/): Предоставляет расширенные возможности, включая проверку на валидность и форматирование.\n",
    "\n",
    "- **Библиотеки для проверки валидности JSON в Python**:\n",
    "  - В Python для проверки JSON можно использовать библиотеку `json`. Она автоматически генерирует исключение, если JSON некорректен:\n",
    "  "
   ]
  },
  {
   "cell_type": "code",
   "execution_count": 3,
   "metadata": {},
   "outputs": [
    {
     "name": "stdout",
     "output_type": "stream",
     "text": [
      "Ошибка в JSON: Expecting property name enclosed in double quotes: line 1 column 31 (char 30)\n"
     ]
    }
   ],
   "source": [
    "# Если JSON некорректен, метод `json.loads()` вызовет исключение `JSONDecodeError`, которое укажет на проблему в структуре данных.\n",
    "import json\n",
    "\n",
    "invalid_json = '{\"name\": \"Mikhail\", \"age\": 36,}'  # Обратите внимание на лишнюю запятую\n",
    "\n",
    "try:\n",
    "    json.loads(invalid_json)\n",
    "except json.JSONDecodeError as e:\n",
    "    print(f\"Ошибка в JSON: {e}\")"
   ]
  },
  {
   "cell_type": "markdown",
   "metadata": {},
   "source": [
    "##### **Примеры исправления ошибок в JSON-структурах**\n",
    "\n",
    "- **Лишние запятые**:\n",
    "  \n",
    "  ```json\n",
    "  {\"name\": \"Mikhail\", \"age\": 36,}\n",
    "  ```\n",
    "  - Исправление: убрать лишнюю запятую после значения `36`.\n",
    "  \n",
    "  ```json\n",
    "  {\"name\": \"Mikhail\", \"age\": 36}\n",
    "  ```\n",
    "\n",
    "- **Неправильное использование кавычек**:\n",
    "  \n",
    "  ```json\n",
    "  {'name': 'Mikhail', 'age': 36}\n",
    "  ```\n",
    "  - Исправление: заменить одинарные кавычки на двойные.\n",
    "  \n",
    "  ```json\n",
    "  {\"name\": \"Mikhail\", \"age\": 36}\n",
    "  ```\n",
    "\n",
    "- **Отсутствие кавычек вокруг ключей**:\n",
    "  \n",
    "  ```json\n",
    "  {name: \"Mikhail\", age: 36}\n",
    "  ```\n",
    "  - Исправление: добавить кавычки вокруг ключей `name` и `age`.\n",
    "  \n",
    "  ```json\n",
    "  {\"name\": \"Mikhail\", \"age\": 36}\n",
    "  ```\n",
    "\n",
    "#### **Работа с форматированием JSON**\n",
    "\n"
   ]
  },
  {
   "cell_type": "markdown",
   "metadata": {},
   "source": [
    "##### **Добавление отступов и переносов строк для улучшения читаемости JSON с помощью параметра `indent` в методах `json.dumps()` и `json.dump()`**\n",
    "\n",
    "- JSON-документы, особенно большие и сложные, могут быть трудно читаемы без форматирования. Использование параметра `indent` позволяет добавить отступы и переносы строк:\n"
   ]
  },
  {
   "cell_type": "code",
   "execution_count": 8,
   "metadata": {},
   "outputs": [
    {
     "name": "stdout",
     "output_type": "stream",
     "text": [
      "{\n",
      "    \"name\": \"Mikhail\",\n",
      "    \"age\": 36,\n",
      "    \"address\": {\n",
      "        \"city\": \"Wonderland\",\n",
      "        \"zipcode\": \"12345\"\n",
      "    }\n",
      "}\n"
     ]
    }
   ],
   "source": [
    "data = {\"name\": \"Mikhail\", \"age\": 36, \"address\": {\"city\": \"Wonderland\", \"zipcode\": \"12345\"}}\n",
    "formatted_json = json.dumps(data, indent=4)\n",
    "print(formatted_json)\n"
   ]
  },
  {
   "cell_type": "markdown",
   "metadata": {},
   "source": [
    "- Метод `json.dump()` также поддерживает параметр `indent` для записи отформатированного JSON непосредственно в файл:\n"
   ]
  },
  {
   "cell_type": "code",
   "execution_count": 5,
   "metadata": {},
   "outputs": [],
   "source": [
    "with open('data.json', 'w') as file:\n",
    "    json.dump(data, file, indent=4)"
   ]
  },
  {
   "cell_type": "markdown",
   "metadata": {},
   "source": [
    "##### **Сортировка ключей в JSON-объектах с помощью параметра `sort_keys`**\n",
    "\n",
    "- Для упрощения работы с JSON-документами можно сортировать ключи объектов в алфавитном порядке с помощью параметра `sort_keys`:\n"
   ]
  },
  {
   "cell_type": "code",
   "execution_count": 9,
   "metadata": {},
   "outputs": [
    {
     "name": "stdout",
     "output_type": "stream",
     "text": [
      "{\n",
      "    \"address\": {\n",
      "        \"city\": \"Wonderland\",\n",
      "        \"zipcode\": \"12345\"\n",
      "    },\n",
      "    \"age\": 36,\n",
      "    \"name\": \"Mikhail\"\n",
      "}\n"
     ]
    }
   ],
   "source": [
    "# Сортировка ключей может быть полезна для сравнения JSON-документов или при необходимости гарантировать, что ключи будут располагаться в определённом порядке.\n",
    "unsorted_data = {\"name\": \"Mikhail\", \"age\": 36, \"address\": {\"zipcode\": \"12345\", \"city\": \"Wonderland\"}}\n",
    "sorted_json = json.dumps(unsorted_data, sort_keys=True, indent=4)\n",
    "print(sorted_json)"
   ]
  },
  {
   "cell_type": "markdown",
   "metadata": {},
   "source": [
    "### Работа с вложенными структурами данных"
   ]
  },
  {
   "cell_type": "markdown",
   "metadata": {},
   "source": [
    "#### **Сериализация сложных объектов**"
   ]
  },
  {
   "cell_type": "markdown",
   "metadata": {},
   "source": [
    "##### **Разбор примеров с вложенными словарями и списками**"
   ]
  },
  {
   "cell_type": "markdown",
   "metadata": {},
   "source": [
    "- **Пример 1**: Вложенные словари:"
   ]
  },
  {
   "cell_type": "code",
   "execution_count": null,
   "metadata": {},
   "outputs": [],
   "source": [
    "complex_data = {\n",
    "    \"name\": \"Mikhail\",\n",
    "    \"age\": 36,\n",
    "    \"address\": {\n",
    "        \"city\": \"Wonderland\",\n",
    "        \"zipcode\": \"12345\"\n",
    "    }\n",
    "}\n",
    "json_string = json.dumps(complex_data, indent=4)\n",
    "print(json_string)"
   ]
  },
  {
   "cell_type": "markdown",
   "metadata": {},
   "source": [
    "- **Пример 2**: Вложенные списки:"
   ]
  },
  {
   "cell_type": "code",
   "execution_count": null,
   "metadata": {},
   "outputs": [],
   "source": [
    "complex_data = {\n",
    "    \"name\": \"Mikhail\",\n",
    "    \"courses\": [\"Math\", \"Science\", [\"History\", \"Art\"]]\n",
    "}\n",
    "json_string = json.dumps(complex_data, indent=4)\n",
    "print(json_string)"
   ]
  },
  {
   "cell_type": "markdown",
   "metadata": {},
   "source": [
    "##### **Работа с JSON-данными, содержащими объекты и массивы объектов**\n",
    "\n",
    "- JSON часто используется для передачи сложных данных, содержащих массивы объектов. Рассмотрим пример работы с массивом JSON-объектов:\n"
   ]
  },
  {
   "cell_type": "code",
   "execution_count": 10,
   "metadata": {},
   "outputs": [
    {
     "name": "stdout",
     "output_type": "stream",
     "text": [
      "[\n",
      "    {\n",
      "        \"name\": \"Mikhail\",\n",
      "        \"age\": 36,\n",
      "        \"courses\": [\n",
      "            \"Math\",\n",
      "            \"Science\"\n",
      "        ]\n",
      "    },\n",
      "    {\n",
      "        \"name\": \"Tatyana\",\n",
      "        \"age\": 35,\n",
      "        \"courses\": [\n",
      "            \"English\",\n",
      "            \"Art\"\n",
      "        ]\n",
      "    },\n",
      "    {\n",
      "        \"name\": \"Oksana\",\n",
      "        \"age\": 40,\n",
      "        \"courses\": [\n",
      "            \"History\",\n",
      "            \"Science\"\n",
      "        ]\n",
      "    }\n",
      "]\n"
     ]
    }
   ],
   "source": [
    "students = [\n",
    "    {\"name\": \"Mikhail\", \"age\": 36, \"courses\": [\"Math\", \"Science\"]},\n",
    "    {\"name\": \"Tatyana\", \"age\": 35, \"courses\": [\"English\", \"Art\"]},\n",
    "    {\"name\": \"Oksana\", \"age\": 40, \"courses\": [\"History\", \"Science\"]}\n",
    "]\n",
    "json_string = json.dumps(students, indent=4)\n",
    "print(json_string)"
   ]
  },
  {
   "cell_type": "markdown",
   "metadata": {},
   "source": [
    "#### **Особенности работы с большими JSON-файлами**\n",
    "\n",
    "##### **Памятные проблемы при работе с большими файлами**\n",
    "\n",
    "- **Проблемы с памятью**:\n",
    "  - При чтении или записи больших JSON-файлов вся информация загружается в память. Это может привести к значительным затратам памяти и, в некоторых случаях, к её исчерпанию.\n",
    "\n",
    "##### **Стратегии чтения и обработки больших JSON-файлов**\n",
    "\n",
    "- **Построчная обработка**:\n",
    "  - Для обработки больших JSON-файлов можно использовать построчное чтение данных. Это может быть полезно при работе с файлами, содержащими массивы объектов:\n",
    "  \n",
    "- **Использование библиотеки `ijson`**:\n",
    "  - Библиотека `ijson` позволяет работать с большими JSON-файлами в потоковом режиме, загружая только необходимые части данных в память:\n"
   ]
  },
  {
   "cell_type": "code",
   "execution_count": 11,
   "metadata": {},
   "outputs": [
    {
     "name": "stdout",
     "output_type": "stream",
     "text": [
      "Всего строк: 0\n"
     ]
    }
   ],
   "source": [
    "# `ijson` позволяет обрабатывать JSON-файл частями, что значительно снижает потребление памяти.\n",
    "import ijson\n",
    "\n",
    "count = 0\n",
    "\n",
    "with open('data.json', 'r') as file:\n",
    "    objects = ijson.items(file, 'item')\n",
    "    for obj in objects:\n",
    "        # Обработка каждого объекта\n",
    "        print(obj)\n",
    "        count += 1\n",
    "\n",
    "print(f\"Всего строк: {count}\")  # Всего строк: 169970"
   ]
  },
  {
   "cell_type": "markdown",
   "metadata": {},
   "source": [
    "##### **Создание пользовательских кодировщиков и декодировщиков для JSON**"
   ]
  },
  {
   "cell_type": "markdown",
   "metadata": {},
   "source": [
    "- **Кодировщик**:\n",
    "  - Для сериализации объектов пользовательских классов можно создать собственный кодировщик:\n"
   ]
  },
  {
   "cell_type": "code",
   "execution_count": 12,
   "metadata": {},
   "outputs": [
    {
     "name": "stdout",
     "output_type": "stream",
     "text": [
      "{\"name\": \"Mikhail\", \"age\": 36}\n"
     ]
    }
   ],
   "source": [
    "class User:\n",
    "    def __init__(self, name, age):\n",
    "        self.name = name\n",
    "        self.age = age\n",
    "\n",
    "class UserEncoder(json.JSONEncoder):\n",
    "    def default(self, obj):\n",
    "        if isinstance(obj, User):\n",
    "            return obj.__dict__\n",
    "        return super().default(obj)\n",
    "\n",
    "user = User('Mikhail', 36)\n",
    "json_string = json.dumps(user, cls=UserEncoder)\n",
    "print(json_string)"
   ]
  },
  {
   "cell_type": "markdown",
   "metadata": {},
   "source": [
    "- **Декодировщик**:\n",
    "  - Для восстановления объекта из JSON-строки можно создать пользовательский декодировщик:\n"
   ]
  },
  {
   "cell_type": "code",
   "execution_count": 13,
   "metadata": {},
   "outputs": [
    {
     "name": "stdout",
     "output_type": "stream",
     "text": [
      "Mikhail 36\n"
     ]
    }
   ],
   "source": [
    "def user_decoder(dct):\n",
    "    if \"name\" in dct and \"age\" in dct:\n",
    "        return User(dct['name'], dct['age'])\n",
    "    return dct\n",
    "\n",
    "json_string = '{\"name\": \"Mikhail\", \"age\": 36}'\n",
    "user = json.loads(json_string, object_hook=user_decoder)\n",
    "print(user.name, user.age)"
   ]
  },
  {
   "cell_type": "markdown",
   "metadata": {},
   "source": [
    "##### **Использование метода `__dict__` для сериализации объектов**\n",
    "\n",
    "- Метод `__dict__` позволяет легко преобразовать объект класса в словарь, который затем можно сериализовать:\n"
   ]
  },
  {
   "cell_type": "code",
   "execution_count": 14,
   "metadata": {},
   "outputs": [
    {
     "name": "stdout",
     "output_type": "stream",
     "text": [
      "{\n",
      "    \"name\": \"Mikhail\",\n",
      "    \"age\": 36\n",
      "}\n"
     ]
    }
   ],
   "source": [
    "user = User('Mikhail', 36)\n",
    "json_string = json.dumps(user.__dict__, indent=4)\n",
    "print(json_string)"
   ]
  },
  {
   "cell_type": "code",
   "execution_count": 15,
   "metadata": {},
   "outputs": [
    {
     "data": {
      "text/plain": [
       "{'name': 'Mikhail', 'age': 36}"
      ]
     },
     "execution_count": 15,
     "metadata": {},
     "output_type": "execute_result"
    }
   ],
   "source": [
    "user.__dict__"
   ]
  },
  {
   "cell_type": "markdown",
   "metadata": {},
   "source": [
    "### **Введение в JSON Schema**"
   ]
  },
  {
   "cell_type": "markdown",
   "metadata": {},
   "source": [
    "\n",
    "\n",
    "#### **Понятие о JSON Schema для валидации структуры данных**\n",
    "\n",
    "- **JSON Schema** — это мощный инструмент для определения структуры JSON-документов и их валидации. Он используется для:\n",
    "  - Определения обязательных полей.\n",
    "  - Ограничения типов данных (например, строка, число, массив).\n",
    "  - Задания форматов данных (например, формат электронной почты, дата).\n",
    "\n",
    "#### **Основы написания схемы для валидации JSON-документа**\n",
    "\n",
    "- **Пример схемы JSON**:\n",
    "  \n",
    "  ```json\n",
    "  {\n",
    "      \"$schema\": \"http://json-schema.org/draft-07/schema#\",\n",
    "      \"type\": \"object\",\n",
    "      \"properties\": {\n",
    "          \"name\": {\n",
    "              \"type\": \"string\"\n",
    "          },\n",
    "          \"age\": {\n",
    "              \"type\": \"integer\",\n",
    "              \"minimum\": 0\n",
    "          },\n",
    "          \"courses\": {\n",
    "              \"type\": \"array\",\n",
    "              \"items\": {\n",
    "                  \"type\": \"string\"\n",
    "              }\n",
    "          }\n",
    "      },\n",
    "      \"required\": [\"name\", \"age\"]\n",
    "  }\n",
    "  ```\n",
    "\n",
    "- **Объяснение схемы**:\n",
    "  - **`$schema`**: Указывает версию JSON Schema.\n",
    "  - **`type`**: Определяет, что корневой объект должен быть типа `object`.\n",
    "  - **`properties`**: Определяет свойства объекта, такие как `name`, `age`, и `courses`.\n",
    "  - **`required`**: Указывает, что `name` и `age` являются обязательными полями.\n",
    "\n",
    "- **Пример использования JSON Schema для валидации**:\n",
    "  \n",
    "  - Для валидации JSON-документа с использованием Python можно использовать библиотеку `jsonschema`:\n",
    "  "
   ]
  },
  {
   "cell_type": "code",
   "execution_count": null,
   "metadata": {},
   "outputs": [],
   "source": [
    "# JSON Schema позволяет чётко определить структуру и правила для JSON-документов, что делает его незаменимым инструментом для разработки надёжных систем обработки данных.\n",
    "from jsonschema import validate, ValidationError\n",
    "\n",
    "schema = {\n",
    "    \"type\": \"object\",\n",
    "    \"properties\": {\n",
    "        \"name\": {\"type\": \"string\"},\n",
    "        \"age\": {\"type\": \"integer\", \"minimum\": 0},\n",
    "        \"courses\": {\"type\": \"array\", \"items\": {\"type\": \"string\"}}\n",
    "    },\n",
    "    \"required\": [\"name\", \"age\"]\n",
    "}\n",
    "\n",
    "document = {\"name\": \"Mikhail\", \"age\": 36, \"courses\": [\"Math\", \"Science\"]}\n",
    "\n",
    "try:\n",
    "    validate(instance=document, schema=schema)\n",
    "    print(\"Документ валиден\")\n",
    "except ValidationError as e:\n",
    "    print(f\"Ошибка валидации: {e}\")"
   ]
  }
 ],
 "metadata": {
  "kernelspec": {
   "display_name": "Python 3",
   "language": "python",
   "name": "python3"
  },
  "language_info": {
   "codemirror_mode": {
    "name": "ipython",
    "version": 3
   },
   "file_extension": ".py",
   "mimetype": "text/x-python",
   "name": "python",
   "nbconvert_exporter": "python",
   "pygments_lexer": "ipython3",
   "version": "3.12.6"
  }
 },
 "nbformat": 4,
 "nbformat_minor": 2
}
